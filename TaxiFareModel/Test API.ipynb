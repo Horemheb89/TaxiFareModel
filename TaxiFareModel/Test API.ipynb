{
 "cells": [
  {
   "cell_type": "code",
   "execution_count": 1,
   "metadata": {},
   "outputs": [],
   "source": [
    "%load_ext autoreload\n",
    "%autoreload 2"
   ]
  },
  {
   "cell_type": "code",
   "execution_count": 2,
   "metadata": {},
   "outputs": [],
   "source": [
    "import pandas as pd\n",
    "import numpy as np\n",
    "import joblib\n",
    "from TaxiFareModel.data import get_data, clean_data"
   ]
  },
  {
   "cell_type": "code",
   "execution_count": 3,
   "metadata": {},
   "outputs": [
    {
     "data": {
      "text/plain": [
       "{'pickup_datetime': '2013-07-06 17:18:00 UTC',\n",
       " 'pickup_longitude': '-73.950655',\n",
       " 'pickup_latitude': '40.783282',\n",
       " 'dropoff_longitude': '-73.984365',\n",
       " 'dropoff_latitude': '40.769802',\n",
       " 'passenger_count': '1'}"
      ]
     },
     "execution_count": 3,
     "metadata": {},
     "output_type": "execute_result"
    }
   ],
   "source": [
    "{\n",
    "  \"pickup_datetime\": \"2013-07-06 17:18:00 UTC\",\n",
    "  \"pickup_longitude\": \"-73.950655\",\n",
    "  \"pickup_latitude\": \"40.783282\",\n",
    "  \"dropoff_longitude\": \"-73.984365\",\n",
    "  \"dropoff_latitude\": \"40.769802\",\n",
    "  \"passenger_count\": \"1\"\n",
    "}"
   ]
  },
  {
   "cell_type": "code",
   "execution_count": 4,
   "metadata": {},
   "outputs": [],
   "source": [
    "data = pd.DataFrame({\n",
    "    \"key\" : [\"\"],\n",
    "  \"pickup_datetime\": [\"2013-07-06 17:18:00 UTC\"],\n",
    "  \"pickup_longitude\": [\"-73.950655\"],\n",
    "  \"pickup_latitude\": [\"40.783282\"],\n",
    "  \"dropoff_longitude\": [\"-73.984365\"],\n",
    "  \"dropoff_latitude\": [\"40.769802\"],\n",
    "  \"passenger_count\": [\"1\"]\n",
    "})"
   ]
  },
  {
   "cell_type": "code",
   "execution_count": 5,
   "metadata": {},
   "outputs": [
    {
     "data": {
      "text/plain": [
       "6.790641596184825"
      ]
     },
     "execution_count": 5,
     "metadata": {},
     "output_type": "execute_result"
    }
   ],
   "source": [
    "model = joblib.load('model.joblib')\n",
    "model.predict(data)[0]"
   ]
  },
  {
   "cell_type": "code",
   "execution_count": 12,
   "metadata": {},
   "outputs": [],
   "source": [
    "df = get_data()"
   ]
  },
  {
   "cell_type": "code",
   "execution_count": 13,
   "metadata": {},
   "outputs": [],
   "source": [
    "df = clean_data(df)"
   ]
  },
  {
   "cell_type": "code",
   "execution_count": 14,
   "metadata": {},
   "outputs": [
    {
     "data": {
      "text/html": [
       "<div>\n",
       "<style scoped>\n",
       "    .dataframe tbody tr th:only-of-type {\n",
       "        vertical-align: middle;\n",
       "    }\n",
       "\n",
       "    .dataframe tbody tr th {\n",
       "        vertical-align: top;\n",
       "    }\n",
       "\n",
       "    .dataframe thead th {\n",
       "        text-align: right;\n",
       "    }\n",
       "</style>\n",
       "<table border=\"1\" class=\"dataframe\">\n",
       "  <thead>\n",
       "    <tr style=\"text-align: right;\">\n",
       "      <th></th>\n",
       "      <th>fare_amount</th>\n",
       "      <th>pickup_datetime</th>\n",
       "      <th>pickup_longitude</th>\n",
       "      <th>pickup_latitude</th>\n",
       "      <th>dropoff_longitude</th>\n",
       "      <th>dropoff_latitude</th>\n",
       "      <th>passenger_count</th>\n",
       "    </tr>\n",
       "    <tr>\n",
       "      <th>key</th>\n",
       "      <th></th>\n",
       "      <th></th>\n",
       "      <th></th>\n",
       "      <th></th>\n",
       "      <th></th>\n",
       "      <th></th>\n",
       "      <th></th>\n",
       "    </tr>\n",
       "  </thead>\n",
       "  <tbody>\n",
       "    <tr>\n",
       "      <th>2009-06-15 17:26:21.0000001</th>\n",
       "      <td>4.5</td>\n",
       "      <td>2009-06-15 17:26:21 UTC</td>\n",
       "      <td>-73.844311</td>\n",
       "      <td>40.721319</td>\n",
       "      <td>-73.841610</td>\n",
       "      <td>40.712278</td>\n",
       "      <td>1</td>\n",
       "    </tr>\n",
       "    <tr>\n",
       "      <th>2010-01-05 16:52:16.0000002</th>\n",
       "      <td>16.9</td>\n",
       "      <td>2010-01-05 16:52:16 UTC</td>\n",
       "      <td>-74.016048</td>\n",
       "      <td>40.711303</td>\n",
       "      <td>-73.979268</td>\n",
       "      <td>40.782004</td>\n",
       "      <td>1</td>\n",
       "    </tr>\n",
       "    <tr>\n",
       "      <th>2011-08-18 00:35:00.00000049</th>\n",
       "      <td>5.7</td>\n",
       "      <td>2011-08-18 00:35:00 UTC</td>\n",
       "      <td>-73.982738</td>\n",
       "      <td>40.761270</td>\n",
       "      <td>-73.991242</td>\n",
       "      <td>40.750562</td>\n",
       "      <td>2</td>\n",
       "    </tr>\n",
       "    <tr>\n",
       "      <th>2012-04-21 04:30:42.0000001</th>\n",
       "      <td>7.7</td>\n",
       "      <td>2012-04-21 04:30:42 UTC</td>\n",
       "      <td>-73.987130</td>\n",
       "      <td>40.733143</td>\n",
       "      <td>-73.991567</td>\n",
       "      <td>40.758092</td>\n",
       "      <td>1</td>\n",
       "    </tr>\n",
       "    <tr>\n",
       "      <th>2010-03-09 07:51:00.000000135</th>\n",
       "      <td>5.3</td>\n",
       "      <td>2010-03-09 07:51:00 UTC</td>\n",
       "      <td>-73.968095</td>\n",
       "      <td>40.768008</td>\n",
       "      <td>-73.956655</td>\n",
       "      <td>40.783762</td>\n",
       "      <td>1</td>\n",
       "    </tr>\n",
       "  </tbody>\n",
       "</table>\n",
       "</div>"
      ],
      "text/plain": [
       "                               fare_amount          pickup_datetime  \\\n",
       "key                                                                   \n",
       "2009-06-15 17:26:21.0000001            4.5  2009-06-15 17:26:21 UTC   \n",
       "2010-01-05 16:52:16.0000002           16.9  2010-01-05 16:52:16 UTC   \n",
       "2011-08-18 00:35:00.00000049           5.7  2011-08-18 00:35:00 UTC   \n",
       "2012-04-21 04:30:42.0000001            7.7  2012-04-21 04:30:42 UTC   \n",
       "2010-03-09 07:51:00.000000135          5.3  2010-03-09 07:51:00 UTC   \n",
       "\n",
       "                               pickup_longitude  pickup_latitude  \\\n",
       "key                                                                \n",
       "2009-06-15 17:26:21.0000001          -73.844311        40.721319   \n",
       "2010-01-05 16:52:16.0000002          -74.016048        40.711303   \n",
       "2011-08-18 00:35:00.00000049         -73.982738        40.761270   \n",
       "2012-04-21 04:30:42.0000001          -73.987130        40.733143   \n",
       "2010-03-09 07:51:00.000000135        -73.968095        40.768008   \n",
       "\n",
       "                               dropoff_longitude  dropoff_latitude  \\\n",
       "key                                                                  \n",
       "2009-06-15 17:26:21.0000001           -73.841610         40.712278   \n",
       "2010-01-05 16:52:16.0000002           -73.979268         40.782004   \n",
       "2011-08-18 00:35:00.00000049          -73.991242         40.750562   \n",
       "2012-04-21 04:30:42.0000001           -73.991567         40.758092   \n",
       "2010-03-09 07:51:00.000000135         -73.956655         40.783762   \n",
       "\n",
       "                               passenger_count  \n",
       "key                                             \n",
       "2009-06-15 17:26:21.0000001                  1  \n",
       "2010-01-05 16:52:16.0000002                  1  \n",
       "2011-08-18 00:35:00.00000049                 2  \n",
       "2012-04-21 04:30:42.0000001                  1  \n",
       "2010-03-09 07:51:00.000000135                1  "
      ]
     },
     "execution_count": 14,
     "metadata": {},
     "output_type": "execute_result"
    }
   ],
   "source": [
    "df.head()"
   ]
  },
  {
   "cell_type": "code",
   "execution_count": 8,
   "metadata": {},
   "outputs": [
    {
     "data": {
      "text/html": [
       "<div>\n",
       "<style scoped>\n",
       "    .dataframe tbody tr th:only-of-type {\n",
       "        vertical-align: middle;\n",
       "    }\n",
       "\n",
       "    .dataframe tbody tr th {\n",
       "        vertical-align: top;\n",
       "    }\n",
       "\n",
       "    .dataframe thead th {\n",
       "        text-align: right;\n",
       "    }\n",
       "</style>\n",
       "<table border=\"1\" class=\"dataframe\">\n",
       "  <thead>\n",
       "    <tr style=\"text-align: right;\">\n",
       "      <th></th>\n",
       "      <th>key</th>\n",
       "      <th>pickup_datetime</th>\n",
       "      <th>pickup_longitude</th>\n",
       "      <th>pickup_latitude</th>\n",
       "      <th>dropoff_longitude</th>\n",
       "      <th>dropoff_latitude</th>\n",
       "      <th>passenger_count</th>\n",
       "    </tr>\n",
       "  </thead>\n",
       "  <tbody>\n",
       "    <tr>\n",
       "      <th>0</th>\n",
       "      <td></td>\n",
       "      <td>2013-07-06 17:18:00 UTC</td>\n",
       "      <td>-73.950655</td>\n",
       "      <td>40.783282</td>\n",
       "      <td>-73.984365</td>\n",
       "      <td>40.769802</td>\n",
       "      <td>1</td>\n",
       "    </tr>\n",
       "  </tbody>\n",
       "</table>\n",
       "</div>"
      ],
      "text/plain": [
       "  key          pickup_datetime pickup_longitude pickup_latitude  \\\n",
       "0      2013-07-06 17:18:00 UTC       -73.950655       40.783282   \n",
       "\n",
       "  dropoff_longitude dropoff_latitude passenger_count  \n",
       "0        -73.984365        40.769802               1  "
      ]
     },
     "execution_count": 8,
     "metadata": {},
     "output_type": "execute_result"
    }
   ],
   "source": [
    "data.head()"
   ]
  },
  {
   "cell_type": "code",
   "execution_count": 15,
   "metadata": {},
   "outputs": [],
   "source": [
    "X = df.drop(columns='fare_amount')"
   ]
  },
  {
   "cell_type": "code",
   "execution_count": 16,
   "metadata": {},
   "outputs": [
    {
     "data": {
      "text/html": [
       "<div>\n",
       "<style scoped>\n",
       "    .dataframe tbody tr th:only-of-type {\n",
       "        vertical-align: middle;\n",
       "    }\n",
       "\n",
       "    .dataframe tbody tr th {\n",
       "        vertical-align: top;\n",
       "    }\n",
       "\n",
       "    .dataframe thead th {\n",
       "        text-align: right;\n",
       "    }\n",
       "</style>\n",
       "<table border=\"1\" class=\"dataframe\">\n",
       "  <thead>\n",
       "    <tr style=\"text-align: right;\">\n",
       "      <th></th>\n",
       "      <th>pickup_datetime</th>\n",
       "      <th>pickup_longitude</th>\n",
       "      <th>pickup_latitude</th>\n",
       "      <th>dropoff_longitude</th>\n",
       "      <th>dropoff_latitude</th>\n",
       "      <th>passenger_count</th>\n",
       "    </tr>\n",
       "    <tr>\n",
       "      <th>key</th>\n",
       "      <th></th>\n",
       "      <th></th>\n",
       "      <th></th>\n",
       "      <th></th>\n",
       "      <th></th>\n",
       "      <th></th>\n",
       "    </tr>\n",
       "  </thead>\n",
       "  <tbody>\n",
       "    <tr>\n",
       "      <th>2009-06-15 17:26:21.0000001</th>\n",
       "      <td>2009-06-15 17:26:21 UTC</td>\n",
       "      <td>-73.844311</td>\n",
       "      <td>40.721319</td>\n",
       "      <td>-73.841610</td>\n",
       "      <td>40.712278</td>\n",
       "      <td>1</td>\n",
       "    </tr>\n",
       "    <tr>\n",
       "      <th>2010-01-05 16:52:16.0000002</th>\n",
       "      <td>2010-01-05 16:52:16 UTC</td>\n",
       "      <td>-74.016048</td>\n",
       "      <td>40.711303</td>\n",
       "      <td>-73.979268</td>\n",
       "      <td>40.782004</td>\n",
       "      <td>1</td>\n",
       "    </tr>\n",
       "    <tr>\n",
       "      <th>2011-08-18 00:35:00.00000049</th>\n",
       "      <td>2011-08-18 00:35:00 UTC</td>\n",
       "      <td>-73.982738</td>\n",
       "      <td>40.761270</td>\n",
       "      <td>-73.991242</td>\n",
       "      <td>40.750562</td>\n",
       "      <td>2</td>\n",
       "    </tr>\n",
       "    <tr>\n",
       "      <th>2012-04-21 04:30:42.0000001</th>\n",
       "      <td>2012-04-21 04:30:42 UTC</td>\n",
       "      <td>-73.987130</td>\n",
       "      <td>40.733143</td>\n",
       "      <td>-73.991567</td>\n",
       "      <td>40.758092</td>\n",
       "      <td>1</td>\n",
       "    </tr>\n",
       "    <tr>\n",
       "      <th>2010-03-09 07:51:00.000000135</th>\n",
       "      <td>2010-03-09 07:51:00 UTC</td>\n",
       "      <td>-73.968095</td>\n",
       "      <td>40.768008</td>\n",
       "      <td>-73.956655</td>\n",
       "      <td>40.783762</td>\n",
       "      <td>1</td>\n",
       "    </tr>\n",
       "  </tbody>\n",
       "</table>\n",
       "</div>"
      ],
      "text/plain": [
       "                                       pickup_datetime  pickup_longitude  \\\n",
       "key                                                                        \n",
       "2009-06-15 17:26:21.0000001    2009-06-15 17:26:21 UTC        -73.844311   \n",
       "2010-01-05 16:52:16.0000002    2010-01-05 16:52:16 UTC        -74.016048   \n",
       "2011-08-18 00:35:00.00000049   2011-08-18 00:35:00 UTC        -73.982738   \n",
       "2012-04-21 04:30:42.0000001    2012-04-21 04:30:42 UTC        -73.987130   \n",
       "2010-03-09 07:51:00.000000135  2010-03-09 07:51:00 UTC        -73.968095   \n",
       "\n",
       "                               pickup_latitude  dropoff_longitude  \\\n",
       "key                                                                 \n",
       "2009-06-15 17:26:21.0000001          40.721319         -73.841610   \n",
       "2010-01-05 16:52:16.0000002          40.711303         -73.979268   \n",
       "2011-08-18 00:35:00.00000049         40.761270         -73.991242   \n",
       "2012-04-21 04:30:42.0000001          40.733143         -73.991567   \n",
       "2010-03-09 07:51:00.000000135        40.768008         -73.956655   \n",
       "\n",
       "                               dropoff_latitude  passenger_count  \n",
       "key                                                               \n",
       "2009-06-15 17:26:21.0000001           40.712278                1  \n",
       "2010-01-05 16:52:16.0000002           40.782004                1  \n",
       "2011-08-18 00:35:00.00000049          40.750562                2  \n",
       "2012-04-21 04:30:42.0000001           40.758092                1  \n",
       "2010-03-09 07:51:00.000000135         40.783762                1  "
      ]
     },
     "execution_count": 16,
     "metadata": {},
     "output_type": "execute_result"
    }
   ],
   "source": [
    "X.head()"
   ]
  },
  {
   "cell_type": "code",
   "execution_count": null,
   "metadata": {},
   "outputs": [],
   "source": []
  }
 ],
 "metadata": {
  "kernelspec": {
   "display_name": "Python 3",
   "language": "python",
   "name": "python3"
  },
  "language_info": {
   "codemirror_mode": {
    "name": "ipython",
    "version": 3
   },
   "file_extension": ".py",
   "mimetype": "text/x-python",
   "name": "python",
   "nbconvert_exporter": "python",
   "pygments_lexer": "ipython3",
   "version": "3.8.6"
  }
 },
 "nbformat": 4,
 "nbformat_minor": 4
}
